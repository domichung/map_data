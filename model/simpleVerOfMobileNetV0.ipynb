{
 "cells": [
  {
   "cell_type": "code",
   "execution_count": 57,
   "metadata": {
    "executionInfo": {
     "elapsed": 2,
     "status": "ok",
     "timestamp": 1743676347923,
     "user": {
      "displayName": "林茂",
      "userId": "04309595087835892301"
     },
     "user_tz": -480
    },
    "id": "APGBZNGHew5y"
   },
   "outputs": [],
   "source": [
    "import os\n",
    "import numpy as np\n",
    "import torch\n",
    "import torch.nn as nn\n",
    "import torch.optim as optim\n",
    "from torch.utils.data import DataLoader\n",
    "from torchvision import datasets, transforms, models\n",
    "from torchvision.transforms import functional as TF\n",
    "import random\n",
    "from tqdm import tqdm # 用於顯示進度條的套件\n",
    "import matplotlib.pyplot as plt\n",
    "from PIL import Image"
   ]
  },
  {
   "cell_type": "code",
   "execution_count": 58,
   "metadata": {
    "executionInfo": {
     "elapsed": 5,
     "status": "ok",
     "timestamp": 1743676349338,
     "user": {
      "displayName": "林茂",
      "userId": "04309595087835892301"
     },
     "user_tz": -480
    },
    "id": "FD1szdjhESTe"
   },
   "outputs": [],
   "source": [
    "# 設定參數\n",
    "IMAGE_SIZE = 224\n",
    "BATCH_SIZE = 256\n",
    "NUM_CLASSES = 10000  # 有10000個標籤(資料夾)\n",
    "EPOCHS = 50\n",
    "LEARNING_RATE = 0.001\n",
    "DEVICE = torch.device(\"cuda\" if torch.cuda.is_available() else \"cpu\")\n",
    "RANDOM_SEED = 123456\n",
    "DATA_DIR = \"Downloads/畢專/data_set/data\"  # 資料集路徑"
   ]
  },
  {
   "cell_type": "code",
   "execution_count": 59,
   "metadata": {
    "colab": {
     "base_uri": "https://localhost:8080/"
    },
    "executionInfo": {
     "elapsed": 8,
     "status": "ok",
     "timestamp": 1743676349344,
     "user": {
      "displayName": "林茂",
      "userId": "04309595087835892301"
     },
     "user_tz": -480
    },
    "id": "WFoS3hONEVLv",
    "outputId": "9480f889-db5b-45dc-d15a-214bcd425e03"
   },
   "outputs": [
    {
     "name": "stdout",
     "output_type": "stream",
     "text": [
      "done\n"
     ]
    }
   ],
   "source": [
    "# 確保可重現性\n",
    "torch.manual_seed(RANDOM_SEED)\n",
    "random.seed(RANDOM_SEED)\n",
    "np.random.seed(RANDOM_SEED)\n",
    "if torch.cuda.is_available():\n",
    "  torch.cuda.manual_seed(RANDOM_SEED)\n",
    "  torch.backends.cudnn.deterministic = True\n",
    "  torch.backends.cudnn.benchmark = False\n",
    "  print('done')\n",
    "else:\n",
    "  print('not done')"
   ]
  },
  {
   "cell_type": "code",
   "execution_count": 60,
   "metadata": {
    "executionInfo": {
     "elapsed": 2,
     "status": "ok",
     "timestamp": 1743676349346,
     "user": {
      "displayName": "林茂",
      "userId": "04309595087835892301"
     },
     "user_tz": -480
    },
    "id": "ZAmwaV-4ZP9C"
   },
   "outputs": [],
   "source": [
    "# 定義模型\n",
    "class UAVLocalizationModel(nn.Module):\n",
    "  def __init__(self, num_class = NUM_CLASSES):\n",
    "    super().__init__()\n",
    "    self.mobilenet = models.mobilenet_v2(pretrained = True)\n",
    "\n",
    "    # for name, layers in self.named_children():\n",
    "    #     print(name, \"  \", layers)\n",
    "\n",
    "    for param in self.mobilenet.parameters():\n",
    "      param.requires_grad = False\n",
    "\n",
    "    in_feature = self.mobilenet.classifier[1].in_features\n",
    "    self.mobilenet.classifier = nn.Sequential(\n",
    "      # nn.Dropout(0.2),\n",
    "      nn.Linear(in_feature, num_class)\n",
    "    )\n",
    "\n",
    "  def forward(self, x):\n",
    "    return self.mobilenet(x)\n",
    "\n",
    "  def unfreeze_layers(self, num_layers=5):\n",
    "    trainable_params = []\n",
    "    # 正確訪問mobilenet的features部分\n",
    "    features = self.mobilenet.features\n",
    "    # 解凍最後num_layers層\n",
    "    for i in range(min(0, len(features) - num_layers), len(features)):\n",
    "      for param in features[i].parameters():\n",
    "        param.requires_grad = True\n",
    "        trainable_params.append(param)\n",
    "        \n",
    "    # 解凍分類器部分\n",
    "    for param in self.mobilenet.classifier.parameters():\n",
    "      param.requires_grad = True\n",
    "      trainable_params.append(param)\n",
    "        \n",
    "    return trainable_params"
   ]
  },
  {
   "cell_type": "code",
   "execution_count": 61,
   "metadata": {
    "executionInfo": {
     "elapsed": 2,
     "status": "ok",
     "timestamp": 1743676349349,
     "user": {
      "displayName": "林茂",
      "userId": "04309595087835892301"
     },
     "user_tz": -480
    },
    "id": "obfUpluhwA_c"
   },
   "outputs": [],
   "source": [
    "def is_valid_file_func(path):\n",
    "  return path.lower().endswith(('.png', '.jpg', '.jpeg', '.bmp'))\n",
    "# 加載數據\n",
    "def load_data():\n",
    "  train_transforms = transforms.Compose([\n",
    "    transforms.Resize((IMAGE_SIZE, IMAGE_SIZE)),\n",
    "    transforms.ToTensor(),\n",
    "    transforms.Normalize(mean=[0.485, 0.456, 0.406], std=[0.229, 0.224, 0.225]),\n",
    "  ])\n",
    "\n",
    "  train_dataset = datasets.ImageFolder(\n",
    "    root = DATA_DIR,\n",
    "    is_valid_file = is_valid_file_func,\n",
    "    allow_empty = False,\n",
    "    transform=train_transforms\n",
    "  )\n",
    "\n",
    "  train_loader = DataLoader(\n",
    "    train_dataset,\n",
    "    batch_size = BATCH_SIZE,\n",
    "    num_workers=4\n",
    "  )\n",
    "\n",
    "  val_loader = DataLoader(\n",
    "    train_dataset,\n",
    "    batch_size = BATCH_SIZE,\n",
    "    num_workers=4\n",
    "  )\n",
    "\n",
    "  return train_loader, val_loader, train_dataset.class_to_idx"
   ]
  },
  {
   "cell_type": "code",
   "execution_count": 62,
   "metadata": {
    "executionInfo": {
     "elapsed": 3,
     "status": "ok",
     "timestamp": 1743678760960,
     "user": {
      "displayName": "林茂",
      "userId": "04309595087835892301"
     },
     "user_tz": -480
    },
    "id": "gjzjJBwo2hlK"
   },
   "outputs": [],
   "source": [
    "# 訓練函數\n",
    "def train_model(model, train_loader, val_loader, criterion, optimizer, scheduler=None, num_epochs=EPOCHS):\n",
    "  history = {\n",
    "    'train_loss': [],\n",
    "    'val_loss': [],\n",
    "    'train_acc': [],\n",
    "    'val_acc': []\n",
    "  }\n",
    "\n",
    "  best_val_acc = 0.0\n",
    "\n",
    "  for epoch in range(num_epochs):\n",
    "    model.train()\n",
    "\n",
    "    print(f'Epoch {epoch+1}/{num_epochs}')\n",
    "    print('-' * 10)\n",
    "\n",
    "    running_loss = 0.0\n",
    "    running_corrects = 0\n",
    "\n",
    "    train_pbar = tqdm(train_loader, desc=f'Training')\n",
    "\n",
    "    for inputs, labels in train_pbar:\n",
    "      optimizer.zero_grad()\n",
    "\n",
    "      with torch.set_grad_enabled(True):\n",
    "        outputs = model(inputs)\n",
    "        _, preds = torch.max(outputs, 1)\n",
    "        loss = criterion(outputs, labels)\n",
    "        loss.backward()\n",
    "        optimizer.step()\n",
    "\n",
    "      running_loss += loss.item() * inputs.size(0)\n",
    "      running_corrects += (preds == labels).sum().item()\n",
    "\n",
    "    epoch_loss = running_loss / len(train_loader.dataset)\n",
    "    epoch_acc = running_corrects / len(train_loader.dataset)\n",
    "    train_pbar.set_postfix({'loss': loss.item()})\n",
    "\n",
    "    history['train_loss'].append(epoch_loss)\n",
    "    history['train_acc'].append(epoch_acc)\n",
    "\n",
    "    print(f'Training Loss: {epoch_loss:.4f} Acc: {epoch_acc*100:.4f}%')\n",
    "\n",
    "    # 驗證階段\n",
    "    model.eval()\n",
    "    running_loss = 0.0\n",
    "    running_corrects = 0\n",
    "    val_pbar = tqdm(val_loader, desc=f'Validation')\n",
    "\n",
    "    for inputs, labels in val_pbar:\n",
    "      with torch.set_grad_enabled(False):\n",
    "        outputs = model(inputs)\n",
    "        _, preds = torch.max(outputs, 1)\n",
    "        loss = criterion(outputs, labels)\n",
    "\n",
    "      running_loss += loss.item() * inputs.size(0)\n",
    "      running_corrects += (preds == labels).sum().item()\n",
    "\n",
    "    val_pbar.set_postfix({'loss': loss.item()})\n",
    "    epoch_loss = running_loss / len(val_loader.dataset)\n",
    "    epoch_acc = running_corrects / len(val_loader.dataset)\n",
    "\n",
    "    print(f'Val Loss: {epoch_loss:.4f} Acc: {epoch_acc*100:.4f}%')\n",
    "\n",
    "    # 記錄歷史\n",
    "    history['val_loss'].append(epoch_loss)\n",
    "    history['val_acc'].append(epoch_acc)\n",
    "\n",
    "    # 保存最佳模型\n",
    "    if epoch_acc > best_val_acc:\n",
    "      best_val_acc = epoch_acc\n",
    "      torch.save(model.state_dict(), 'Downloads/畢專/AI model/uav_localization_best_model.pth')\n",
    "      print(f'保存最佳模型，準確率: {epoch_acc*100:.4f}%')\n",
    "\n",
    "  # 加載最佳模型權重\n",
    "  model.load_state_dict(torch.load('Downloads/畢專/AI model/uav_localization_best_model.pth'))\n",
    "\n",
    "  return model, history"
   ]
  },
  {
   "cell_type": "code",
   "execution_count": 63,
   "metadata": {
    "executionInfo": {
     "elapsed": 4,
     "status": "ok",
     "timestamp": 1743676349409,
     "user": {
      "displayName": "林茂",
      "userId": "04309595087835892301"
     },
     "user_tz": -480
    },
    "id": "CcvZ45JB_Hz9"
   },
   "outputs": [],
   "source": [
    "# 評估模型\n",
    "def evaluate_model(model, test_loader):\n",
    "  return None"
   ]
  },
  {
   "cell_type": "code",
   "execution_count": 64,
   "metadata": {
    "executionInfo": {
     "elapsed": 3,
     "status": "ok",
     "timestamp": 1743676349410,
     "user": {
      "displayName": "林茂",
      "userId": "04309595087835892301"
     },
     "user_tz": -480
    },
    "id": "tpKx30OH_QWX"
   },
   "outputs": [],
   "source": [
    "# 繪製訓練曲線\n",
    "def plot_training_history(history):\n",
    "  fig, (ax1, ax2) = plt.subplots(1, 2, figsize=(15, 5))\n",
    "\n",
    "  ax1.plot(history['train_loss'], label='Train Loss')\n",
    "  ax1.plot(history['val_loss'], label='Val Loss')\n",
    "  ax1.set_xlabel('Epoch')\n",
    "  ax1.set_ylabel('Loss')\n",
    "  ax1.legend()\n",
    "  ax1.set_title('Training and Validation Loss')\n",
    "\n",
    "  ax2.plot(history['train_acc'], label='Train Accuracy')\n",
    "  ax2.plot(history['val_acc'], label='Val Accuracy')\n",
    "  ax2.set_xlabel('Epoch')\n",
    "  ax2.set_ylabel('Accuracy')\n",
    "  ax2.legend()\n",
    "  ax2.set_title('Training and Validation Accuracy')\n",
    "\n",
    "  plt.tight_layout()\n",
    "  plt.savefig('training_history.png')\n",
    "  plt.show()"
   ]
  },
  {
   "cell_type": "code",
   "execution_count": 65,
   "metadata": {
    "colab": {
     "base_uri": "https://localhost:8080/"
    },
    "executionInfo": {
     "elapsed": 6040,
     "status": "ok",
     "timestamp": 1743676355447,
     "user": {
      "displayName": "林茂",
      "userId": "04309595087835892301"
     },
     "user_tz": -480
    },
    "id": "zNCGsgKW_Z1p",
    "outputId": "b998ad66-8266-4e05-a41d-bd34a81942f0"
   },
   "outputs": [
    {
     "name": "stdout",
     "output_type": "stream",
     "text": [
      "載入數據...\n"
     ]
    }
   ],
   "source": [
    "print(\"載入數據...\")\n",
    "train_loader, val_loader, class_to_idx = load_data()"
   ]
  },
  {
   "cell_type": "code",
   "execution_count": 66,
   "metadata": {
    "colab": {
     "base_uri": "https://localhost:8080/"
    },
    "executionInfo": {
     "elapsed": 184,
     "status": "ok",
     "timestamp": 1743676355630,
     "user": {
      "displayName": "林茂",
      "userId": "04309595087835892301"
     },
     "user_tz": -480
    },
    "id": "o1ay4x_5CwcR",
    "outputId": "48305711-13ed-415f-b1db-a4c45838fbde"
   },
   "outputs": [
    {
     "name": "stdout",
     "output_type": "stream",
     "text": [
      "創建模型...\n"
     ]
    }
   ],
   "source": [
    "print(\"創建模型...\")\n",
    "model = UAVLocalizationModel(NUM_CLASSES)"
   ]
  },
  {
   "cell_type": "code",
   "execution_count": 67,
   "metadata": {
    "colab": {
     "base_uri": "https://localhost:8080/"
    },
    "executionInfo": {
     "elapsed": 127,
     "status": "ok",
     "timestamp": 1743676355759,
     "user": {
      "displayName": "林茂",
      "userId": "04309595087835892301"
     },
     "user_tz": -480
    },
    "id": "RUpDvTNXMuxE",
    "outputId": "7d4f6763-0644-4082-92e3-12fa130b4dbf"
   },
   "outputs": [],
   "source": [
    "# !nvidia-smi\n",
    "# if torch.cuda.is_available():\n",
    "#   print(\"GPU is available\")\n",
    "# else:\n",
    "#   print(\"GPU is not available\")\n"
   ]
  },
  {
   "cell_type": "code",
   "execution_count": 68,
   "metadata": {},
   "outputs": [],
   "source": [
    "# 預測函數\n",
    "def predict_position(model, image_path, class_to_idx):\n",
    "    idx_to_class = {v: k for k, v in class_to_idx.items()}\n",
    "    \n",
    "    transform = transforms.Compose([\n",
    "        transforms.Resize((IMAGE_SIZE, IMAGE_SIZE)),\n",
    "        transforms.ToTensor(),\n",
    "        # transforms.Normalize(mean=[0.485, 0.456, 0.406], std=[0.229, 0.224, 0.225]),\n",
    "    ])\n",
    "    image = Image.open(image_path).convert('RGB')\n",
    "    image = transform(image).unsqueeze(0)\n",
    "    \n",
    "    # 進行預測\n",
    "    model.eval()\n",
    "    with torch.no_grad():\n",
    "        outputs = model(image)\n",
    "        _, preds = torch.max(outputs, 1)\n",
    "    \n",
    "    predicted_idx = preds.item()\n",
    "    predicted_class = idx_to_class[predicted_idx]\n",
    "    \n",
    "    # 計算置信度\n",
    "    probabilities = torch.nn.functional.softmax(outputs, dim=1)[0]\n",
    "    confidence = probabilities[predicted_idx].item()\n",
    "    \n",
    "    return predicted_class, confidence"
   ]
  },
  {
   "cell_type": "code",
   "execution_count": 69,
   "metadata": {
    "colab": {
     "base_uri": "https://localhost:8080/"
    },
    "id": "dj8Fu6C2Cu7A",
    "outputId": "7e83de1c-6089-4772-ab8d-4fab177886b3"
   },
   "outputs": [
    {
     "name": "stdout",
     "output_type": "stream",
     "text": [
      "開始第一階段訓練...\n",
      "Epoch 1/10\n",
      "----------\n"
     ]
    },
    {
     "name": "stderr",
     "output_type": "stream",
     "text": [
      "Training: 100%|██████████| 40/40 [04:41<00:00,  7.03s/it]\n"
     ]
    },
    {
     "name": "stdout",
     "output_type": "stream",
     "text": [
      "Training Loss: 12.2327 Acc: 0.0000%\n"
     ]
    },
    {
     "name": "stderr",
     "output_type": "stream",
     "text": [
      "Validation: 100%|██████████| 40/40 [03:38<00:00,  5.46s/it]\n"
     ]
    },
    {
     "name": "stdout",
     "output_type": "stream",
     "text": [
      "Val Loss: 8.7568 Acc: 2.6100%\n",
      "保存最佳模型，準確率: 2.6100%\n",
      "Epoch 2/10\n",
      "----------\n"
     ]
    },
    {
     "name": "stderr",
     "output_type": "stream",
     "text": [
      "Training: 100%|██████████| 40/40 [04:39<00:00,  6.99s/it]\n"
     ]
    },
    {
     "name": "stdout",
     "output_type": "stream",
     "text": [
      "Training Loss: 8.1650 Acc: 10.8000%\n"
     ]
    },
    {
     "name": "stderr",
     "output_type": "stream",
     "text": [
      "Validation: 100%|██████████| 40/40 [03:37<00:00,  5.43s/it]\n"
     ]
    },
    {
     "name": "stdout",
     "output_type": "stream",
     "text": [
      "Val Loss: 7.0552 Acc: 21.6900%\n",
      "保存最佳模型，準確率: 21.6900%\n",
      "Epoch 3/10\n",
      "----------\n"
     ]
    },
    {
     "name": "stderr",
     "output_type": "stream",
     "text": [
      "Training: 100%|██████████| 40/40 [04:39<00:00,  6.98s/it]\n"
     ]
    },
    {
     "name": "stdout",
     "output_type": "stream",
     "text": [
      "Training Loss: 6.0141 Acc: 56.9900%\n"
     ]
    },
    {
     "name": "stderr",
     "output_type": "stream",
     "text": [
      "Validation: 100%|██████████| 40/40 [03:40<00:00,  5.51s/it]\n"
     ]
    },
    {
     "name": "stdout",
     "output_type": "stream",
     "text": [
      "Val Loss: 5.6295 Acc: 71.1400%\n",
      "保存最佳模型，準確率: 71.1400%\n",
      "Epoch 4/10\n",
      "----------\n"
     ]
    },
    {
     "name": "stderr",
     "output_type": "stream",
     "text": [
      "Training: 100%|██████████| 40/40 [04:41<00:00,  7.05s/it]\n"
     ]
    },
    {
     "name": "stdout",
     "output_type": "stream",
     "text": [
      "Training Loss: 3.9933 Acc: 98.8600%\n"
     ]
    },
    {
     "name": "stderr",
     "output_type": "stream",
     "text": [
      "Validation: 100%|██████████| 40/40 [03:37<00:00,  5.43s/it]\n"
     ]
    },
    {
     "name": "stdout",
     "output_type": "stream",
     "text": [
      "Val Loss: 4.3773 Acc: 78.8000%\n",
      "保存最佳模型，準確率: 78.8000%\n",
      "Epoch 5/10\n",
      "----------\n"
     ]
    },
    {
     "name": "stderr",
     "output_type": "stream",
     "text": [
      "Training: 100%|██████████| 40/40 [04:39<00:00,  7.00s/it]\n"
     ]
    },
    {
     "name": "stdout",
     "output_type": "stream",
     "text": [
      "Training Loss: 2.2413 Acc: 100.0000%\n"
     ]
    },
    {
     "name": "stderr",
     "output_type": "stream",
     "text": [
      "Validation: 100%|██████████| 40/40 [03:35<00:00,  5.39s/it]\n"
     ]
    },
    {
     "name": "stdout",
     "output_type": "stream",
     "text": [
      "Val Loss: 3.3853 Acc: 82.9700%\n",
      "保存最佳模型，準確率: 82.9700%\n",
      "Epoch 6/10\n",
      "----------\n"
     ]
    },
    {
     "name": "stderr",
     "output_type": "stream",
     "text": [
      "Training: 100%|██████████| 40/40 [04:42<00:00,  7.07s/it]\n"
     ]
    },
    {
     "name": "stdout",
     "output_type": "stream",
     "text": [
      "Training Loss: 1.0444 Acc: 100.0000%\n"
     ]
    },
    {
     "name": "stderr",
     "output_type": "stream",
     "text": [
      "Validation: 100%|██████████| 40/40 [03:55<00:00,  5.88s/it]\n"
     ]
    },
    {
     "name": "stdout",
     "output_type": "stream",
     "text": [
      "Val Loss: 2.7607 Acc: 84.6500%\n",
      "保存最佳模型，準確率: 84.6500%\n",
      "Epoch 7/10\n",
      "----------\n"
     ]
    },
    {
     "name": "stderr",
     "output_type": "stream",
     "text": [
      "Training: 100%|██████████| 40/40 [09:42<00:00, 14.57s/it]\n"
     ]
    },
    {
     "name": "stdout",
     "output_type": "stream",
     "text": [
      "Training Loss: 0.4854 Acc: 100.0000%\n"
     ]
    },
    {
     "name": "stderr",
     "output_type": "stream",
     "text": [
      "Validation: 100%|██████████| 40/40 [03:34<00:00,  5.37s/it]\n"
     ]
    },
    {
     "name": "stdout",
     "output_type": "stream",
     "text": [
      "Val Loss: 2.4164 Acc: 86.2100%\n",
      "保存最佳模型，準確率: 86.2100%\n",
      "Epoch 8/10\n",
      "----------\n"
     ]
    },
    {
     "name": "stderr",
     "output_type": "stream",
     "text": [
      "Training: 100%|██████████| 40/40 [04:38<00:00,  6.95s/it]\n"
     ]
    },
    {
     "name": "stdout",
     "output_type": "stream",
     "text": [
      "Training Loss: 0.2801 Acc: 100.0000%\n"
     ]
    },
    {
     "name": "stderr",
     "output_type": "stream",
     "text": [
      "Validation: 100%|██████████| 40/40 [03:35<00:00,  5.39s/it]\n"
     ]
    },
    {
     "name": "stdout",
     "output_type": "stream",
     "text": [
      "Val Loss: 2.2210 Acc: 87.0400%\n",
      "保存最佳模型，準確率: 87.0400%\n",
      "Epoch 9/10\n",
      "----------\n"
     ]
    },
    {
     "name": "stderr",
     "output_type": "stream",
     "text": [
      "Training: 100%|██████████| 40/40 [04:38<00:00,  6.96s/it]\n"
     ]
    },
    {
     "name": "stdout",
     "output_type": "stream",
     "text": [
      "Training Loss: 0.1926 Acc: 99.9800%\n"
     ]
    },
    {
     "name": "stderr",
     "output_type": "stream",
     "text": [
      "Validation: 100%|██████████| 40/40 [03:34<00:00,  5.36s/it]\n"
     ]
    },
    {
     "name": "stdout",
     "output_type": "stream",
     "text": [
      "Val Loss: 2.0905 Acc: 87.3800%\n",
      "保存最佳模型，準確率: 87.3800%\n",
      "Epoch 10/10\n",
      "----------\n"
     ]
    },
    {
     "name": "stderr",
     "output_type": "stream",
     "text": [
      "Training: 100%|██████████| 40/40 [04:38<00:00,  6.97s/it]\n"
     ]
    },
    {
     "name": "stdout",
     "output_type": "stream",
     "text": [
      "Training Loss: 0.1446 Acc: 99.9900%\n"
     ]
    },
    {
     "name": "stderr",
     "output_type": "stream",
     "text": [
      "Validation: 100%|██████████| 40/40 [03:35<00:00,  5.39s/it]\n"
     ]
    },
    {
     "name": "stdout",
     "output_type": "stream",
     "text": [
      "Val Loss: 1.9924 Acc: 87.5400%\n",
      "保存最佳模型，準確率: 87.5400%\n"
     ]
    }
   ],
   "source": [
    "# 第一階段：只訓練分類器層\n",
    "criterion = nn.CrossEntropyLoss()\n",
    "optimizer = optim.Adam(model.mobilenet.classifier.parameters(), lr=LEARNING_RATE)\n",
    "print(\"開始第一階段訓練...\")\n",
    "model, first_history = train_model(\n",
    "  model,\n",
    "  train_loader,\n",
    "  val_loader,\n",
    "  criterion,\n",
    "  optimizer,\n",
    "  num_epochs=int(EPOCHS/5)\n",
    ")"
   ]
  },
  {
   "cell_type": "code",
   "execution_count": 70,
   "metadata": {},
   "outputs": [],
   "source": [
    "# 繪製訓練曲線\n",
    "def plot_training_history(history):\n",
    "    fig, (ax1, ax2) = plt.subplots(1, 2, figsize=(15, 5))\n",
    "    \n",
    "    ax1.plot(history['train_loss'], label='Train Loss')\n",
    "    ax1.plot(history['val_loss'], label='Val Loss')\n",
    "    ax1.set_xlabel('Epoch')\n",
    "    ax1.set_ylabel('Loss')\n",
    "    ax1.legend()\n",
    "    ax1.set_title('Training and Validation Loss')\n",
    "    \n",
    "    ax2.plot(history['train_acc'], label='Train Accuracy')\n",
    "    ax2.plot(history['val_acc'], label='Val Accuracy')\n",
    "    ax2.set_xlabel('Epoch')\n",
    "    ax2.set_ylabel('Accuracy')\n",
    "    ax2.legend()\n",
    "    ax2.set_title('Training and Validation Accuracy')\n",
    "    \n",
    "    plt.tight_layout()\n",
    "    plt.savefig('training_history.png')\n",
    "    plt.show()"
   ]
  },
  {
   "cell_type": "code",
   "execution_count": 72,
   "metadata": {},
   "outputs": [
    {
     "data": {
      "image/png": "[encoded data removed]",
      "text/plain": [
       "<Figure size 1500x500 with 2 Axes>"
      ]
     },
     "metadata": {},
     "output_type": "display_data"
    }
   ],
   "source": [
    "plot_training_history(first_history)\n",
    "image_path = \"Downloads/畢專/data_set/data/24.179516 120.649011/fcu_satellite_78_12_o.png\""
   ]
  },
  {
   "cell_type": "code",
   "execution_count": null,
   "metadata": {},
   "outputs": [],
   "source": [
    "# # 微調模型\n",
    "# print(\"開始微調模型...\")\n",
    "# trainable_params = model.unfreeze_layers(5)\n",
    "# # print(trainable_params)\n",
    "# criterion = nn.CrossEntropyLoss()\n",
    "# optimizer = optim.Adam(trainable_params, lr=LEARNING_RATE)\n",
    "# scheduler = optim.lr_scheduler.StepLR(optimizer, step_size=7, gamma=0.1)\n",
    "    \n",
    "# model, history = train_model(\n",
    "#     model, \n",
    "#     train_loader, \n",
    "#     val_loader, \n",
    "#     criterion, \n",
    "#     optimizer,\n",
    "#     scheduler=scheduler,\n",
    "#     num_epochs=EPOCHS // 5\n",
    "# )"
   ]
  },
  {
   "cell_type": "code",
   "execution_count": null,
   "metadata": {},
   "outputs": [],
   "source": [
    "# 合併歷史記錄\n",
    "# history = {\n",
    "#     'train_loss': first_history['train_loss'] + second_history['train_loss'],\n",
    "#     'val_loss': first_history['val_loss'] + second_history['val_loss'],\n",
    "#     'train_acc': first_history['train_acc'] + second_history['train_acc'],\n",
    "#     'val_acc': first_history['val_acc'] + second_history['val_acc']\n",
    "# }\n",
    "    \n",
    "# 繪製訓練歷史\n",
    "plot_training_history(history)\n",
    "    \n",
    "# 保存最終模型\n",
    "torch.save(\n",
    "    {\n",
    "        'model_state_dict': model.state_dict(),\n",
    "        'class_to_idx': class_to_idx\n",
    "    }, \n",
    "    'uav_localization_final_model.pth'\n",
    ")\n",
    "    \n",
    " print(\"模型訓練完成，已保存最終模型\")"
   ]
  }
 ],
 "metadata": {
  "accelerator": "GPU",
  "colab": {
   "authorship_tag": "ABX9TyOtPfnDghPV8sLi7rg64/af",
   "gpuType": "T4",
   "mount_file_id": "1JKmv7S0X3iJobJs3UIw89OqhuoNQWaUh",
   "provenance": []
  },
  "kernelspec": {
   "display_name": "Python 3 (ipykernel)",
   "language": "python",
   "name": "python3"
  },
  "language_info": {
   "codemirror_mode": {
    "name": "ipython",
    "version": 3
   },
   "file_extension": ".py",
   "mimetype": "text/x-python",
   "name": "python",
   "nbconvert_exporter": "python",
   "pygments_lexer": "ipython3",
   "version": "3.11.5"
  }
 },
 "nbformat": 4,
 "nbformat_minor": 4
}
